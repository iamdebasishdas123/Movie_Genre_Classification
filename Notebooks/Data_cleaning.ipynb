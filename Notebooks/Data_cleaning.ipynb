{
 "cells": [
  {
   "cell_type": "markdown",
   "metadata": {},
   "source": [
    "## 1. Import Libraries"
   ]
  },
  {
   "cell_type": "code",
   "execution_count": 228,
   "metadata": {},
   "outputs": [],
   "source": [
    "import pandas as pd\n",
    "\n",
    "import numpy as np\n",
    "\n",
    "import os\n",
    "\n",
    "from sklearn.model_selection import train_test_split"
   ]
  },
  {
   "cell_type": "markdown",
   "metadata": {},
   "source": [
    "## 2. Import Dataset"
   ]
  },
  {
   "cell_type": "code",
   "execution_count": 229,
   "metadata": {},
   "outputs": [],
   "source": [
    "file_path=r\"C:\\Users\\Debasish Das\\Desktop\\Movie_Genre\\Genre Classification Dataset\"\n",
    "def get_data(name):\n",
    "    file_name=f\"{name}.txt\"\n",
    "    full_path=os.path.join(file_path,file_name)\n",
    "    return pd.read_table(full_path,header=None)\n"
   ]
  },
  {
   "cell_type": "code",
   "execution_count": 230,
   "metadata": {},
   "outputs": [
    {
     "data": {
      "text/html": [
       "<div>\n",
       "<style scoped>\n",
       "    .dataframe tbody tr th:only-of-type {\n",
       "        vertical-align: middle;\n",
       "    }\n",
       "\n",
       "    .dataframe tbody tr th {\n",
       "        vertical-align: top;\n",
       "    }\n",
       "\n",
       "    .dataframe thead th {\n",
       "        text-align: right;\n",
       "    }\n",
       "</style>\n",
       "<table border=\"1\" class=\"dataframe\">\n",
       "  <thead>\n",
       "    <tr style=\"text-align: right;\">\n",
       "      <th></th>\n",
       "      <th>0</th>\n",
       "    </tr>\n",
       "  </thead>\n",
       "  <tbody>\n",
       "    <tr>\n",
       "      <th>0</th>\n",
       "      <td>1 ::: Oscar et la dame rose (2009) ::: drama :...</td>\n",
       "    </tr>\n",
       "    <tr>\n",
       "      <th>1</th>\n",
       "      <td>2 ::: Cupid (1997) ::: thriller ::: A brother ...</td>\n",
       "    </tr>\n",
       "    <tr>\n",
       "      <th>2</th>\n",
       "      <td>3 ::: Young, Wild and Wonderful (1980) ::: adu...</td>\n",
       "    </tr>\n",
       "    <tr>\n",
       "      <th>3</th>\n",
       "      <td>4 ::: The Secret Sin (1915) ::: drama ::: To h...</td>\n",
       "    </tr>\n",
       "    <tr>\n",
       "      <th>4</th>\n",
       "      <td>5 ::: The Unrecovered (2007) ::: drama ::: The...</td>\n",
       "    </tr>\n",
       "    <tr>\n",
       "      <th>...</th>\n",
       "      <td>...</td>\n",
       "    </tr>\n",
       "    <tr>\n",
       "      <th>54209</th>\n",
       "      <td>54210 ::: \"Bonino\" (1953) ::: comedy ::: This ...</td>\n",
       "    </tr>\n",
       "    <tr>\n",
       "      <th>54210</th>\n",
       "      <td>54211 ::: Dead Girls Don't Cry (????) ::: horr...</td>\n",
       "    </tr>\n",
       "    <tr>\n",
       "      <th>54211</th>\n",
       "      <td>54212 ::: Ronald Goedemondt: Ze bestaan echt (...</td>\n",
       "    </tr>\n",
       "    <tr>\n",
       "      <th>54212</th>\n",
       "      <td>54213 ::: Make Your Own Bed (1944) ::: comedy ...</td>\n",
       "    </tr>\n",
       "    <tr>\n",
       "      <th>54213</th>\n",
       "      <td>54214 ::: Nature's Fury: Storm of the Century ...</td>\n",
       "    </tr>\n",
       "  </tbody>\n",
       "</table>\n",
       "<p>54214 rows × 1 columns</p>\n",
       "</div>"
      ],
      "text/plain": [
       "                                                       0\n",
       "0      1 ::: Oscar et la dame rose (2009) ::: drama :...\n",
       "1      2 ::: Cupid (1997) ::: thriller ::: A brother ...\n",
       "2      3 ::: Young, Wild and Wonderful (1980) ::: adu...\n",
       "3      4 ::: The Secret Sin (1915) ::: drama ::: To h...\n",
       "4      5 ::: The Unrecovered (2007) ::: drama ::: The...\n",
       "...                                                  ...\n",
       "54209  54210 ::: \"Bonino\" (1953) ::: comedy ::: This ...\n",
       "54210  54211 ::: Dead Girls Don't Cry (????) ::: horr...\n",
       "54211  54212 ::: Ronald Goedemondt: Ze bestaan echt (...\n",
       "54212  54213 ::: Make Your Own Bed (1944) ::: comedy ...\n",
       "54213  54214 ::: Nature's Fury: Storm of the Century ...\n",
       "\n",
       "[54214 rows x 1 columns]"
      ]
     },
     "execution_count": 230,
     "metadata": {},
     "output_type": "execute_result"
    }
   ],
   "source": [
    "train=get_data(\"train\")\n",
    "train"
   ]
  },
  {
   "cell_type": "code",
   "execution_count": 231,
   "metadata": {},
   "outputs": [
    {
     "data": {
      "text/html": [
       "<div>\n",
       "<style scoped>\n",
       "    .dataframe tbody tr th:only-of-type {\n",
       "        vertical-align: middle;\n",
       "    }\n",
       "\n",
       "    .dataframe tbody tr th {\n",
       "        vertical-align: top;\n",
       "    }\n",
       "\n",
       "    .dataframe thead th {\n",
       "        text-align: right;\n",
       "    }\n",
       "</style>\n",
       "<table border=\"1\" class=\"dataframe\">\n",
       "  <thead>\n",
       "    <tr style=\"text-align: right;\">\n",
       "      <th></th>\n",
       "      <th>0</th>\n",
       "    </tr>\n",
       "  </thead>\n",
       "  <tbody>\n",
       "    <tr>\n",
       "      <th>0</th>\n",
       "      <td>1 ::: Edgar's Lunch (1998) ::: thriller ::: L....</td>\n",
       "    </tr>\n",
       "    <tr>\n",
       "      <th>1</th>\n",
       "      <td>2 ::: La guerra de papá (1977) ::: comedy ::: ...</td>\n",
       "    </tr>\n",
       "    <tr>\n",
       "      <th>2</th>\n",
       "      <td>3 ::: Off the Beaten Track (2010) ::: document...</td>\n",
       "    </tr>\n",
       "    <tr>\n",
       "      <th>3</th>\n",
       "      <td>4 ::: Meu Amigo Hindu (2015) ::: drama ::: His...</td>\n",
       "    </tr>\n",
       "    <tr>\n",
       "      <th>4</th>\n",
       "      <td>5 ::: Er nu zhai (1955) ::: drama ::: Before h...</td>\n",
       "    </tr>\n",
       "    <tr>\n",
       "      <th>...</th>\n",
       "      <td>...</td>\n",
       "    </tr>\n",
       "    <tr>\n",
       "      <th>54195</th>\n",
       "      <td>54196 ::: \"Tales of Light &amp; Dark\" (2013) ::: h...</td>\n",
       "    </tr>\n",
       "    <tr>\n",
       "      <th>54196</th>\n",
       "      <td>54197 ::: Der letzte Mohikaner (1965) ::: west...</td>\n",
       "    </tr>\n",
       "    <tr>\n",
       "      <th>54197</th>\n",
       "      <td>54198 ::: Oliver Twink (2007) ::: adult ::: A ...</td>\n",
       "    </tr>\n",
       "    <tr>\n",
       "      <th>54198</th>\n",
       "      <td>54199 ::: Slipstream (1973) ::: drama ::: Popu...</td>\n",
       "    </tr>\n",
       "    <tr>\n",
       "      <th>54199</th>\n",
       "      <td>54200 ::: Curitiba Zero Grau (2010) ::: drama ...</td>\n",
       "    </tr>\n",
       "  </tbody>\n",
       "</table>\n",
       "<p>54200 rows × 1 columns</p>\n",
       "</div>"
      ],
      "text/plain": [
       "                                                       0\n",
       "0      1 ::: Edgar's Lunch (1998) ::: thriller ::: L....\n",
       "1      2 ::: La guerra de papá (1977) ::: comedy ::: ...\n",
       "2      3 ::: Off the Beaten Track (2010) ::: document...\n",
       "3      4 ::: Meu Amigo Hindu (2015) ::: drama ::: His...\n",
       "4      5 ::: Er nu zhai (1955) ::: drama ::: Before h...\n",
       "...                                                  ...\n",
       "54195  54196 ::: \"Tales of Light & Dark\" (2013) ::: h...\n",
       "54196  54197 ::: Der letzte Mohikaner (1965) ::: west...\n",
       "54197  54198 ::: Oliver Twink (2007) ::: adult ::: A ...\n",
       "54198  54199 ::: Slipstream (1973) ::: drama ::: Popu...\n",
       "54199  54200 ::: Curitiba Zero Grau (2010) ::: drama ...\n",
       "\n",
       "[54200 rows x 1 columns]"
      ]
     },
     "execution_count": 231,
     "metadata": {},
     "output_type": "execute_result"
    }
   ],
   "source": [
    "test=get_data(\"test\")\n",
    "test"
   ]
  },
  {
   "cell_type": "markdown",
   "metadata": {},
   "source": [
    "- No columns\n",
    "- Row data are marge in one one paragraph\n",
    "- Different data split by `:::`"
   ]
  },
  {
   "cell_type": "markdown",
   "metadata": {},
   "source": [
    "### 2.1 Marge Dataframe"
   ]
  },
  {
   "cell_type": "code",
   "execution_count": 232,
   "metadata": {},
   "outputs": [
    {
     "data": {
      "text/html": [
       "<div>\n",
       "<style scoped>\n",
       "    .dataframe tbody tr th:only-of-type {\n",
       "        vertical-align: middle;\n",
       "    }\n",
       "\n",
       "    .dataframe tbody tr th {\n",
       "        vertical-align: top;\n",
       "    }\n",
       "\n",
       "    .dataframe thead th {\n",
       "        text-align: right;\n",
       "    }\n",
       "</style>\n",
       "<table border=\"1\" class=\"dataframe\">\n",
       "  <thead>\n",
       "    <tr style=\"text-align: right;\">\n",
       "      <th></th>\n",
       "      <th>0</th>\n",
       "    </tr>\n",
       "  </thead>\n",
       "  <tbody>\n",
       "    <tr>\n",
       "      <th>0</th>\n",
       "      <td>1 ::: Oscar et la dame rose (2009) ::: drama :...</td>\n",
       "    </tr>\n",
       "    <tr>\n",
       "      <th>1</th>\n",
       "      <td>2 ::: Cupid (1997) ::: thriller ::: A brother ...</td>\n",
       "    </tr>\n",
       "    <tr>\n",
       "      <th>2</th>\n",
       "      <td>3 ::: Young, Wild and Wonderful (1980) ::: adu...</td>\n",
       "    </tr>\n",
       "    <tr>\n",
       "      <th>3</th>\n",
       "      <td>4 ::: The Secret Sin (1915) ::: drama ::: To h...</td>\n",
       "    </tr>\n",
       "    <tr>\n",
       "      <th>4</th>\n",
       "      <td>5 ::: The Unrecovered (2007) ::: drama ::: The...</td>\n",
       "    </tr>\n",
       "    <tr>\n",
       "      <th>...</th>\n",
       "      <td>...</td>\n",
       "    </tr>\n",
       "    <tr>\n",
       "      <th>54195</th>\n",
       "      <td>54196 ::: \"Tales of Light &amp; Dark\" (2013) ::: h...</td>\n",
       "    </tr>\n",
       "    <tr>\n",
       "      <th>54196</th>\n",
       "      <td>54197 ::: Der letzte Mohikaner (1965) ::: west...</td>\n",
       "    </tr>\n",
       "    <tr>\n",
       "      <th>54197</th>\n",
       "      <td>54198 ::: Oliver Twink (2007) ::: adult ::: A ...</td>\n",
       "    </tr>\n",
       "    <tr>\n",
       "      <th>54198</th>\n",
       "      <td>54199 ::: Slipstream (1973) ::: drama ::: Popu...</td>\n",
       "    </tr>\n",
       "    <tr>\n",
       "      <th>54199</th>\n",
       "      <td>54200 ::: Curitiba Zero Grau (2010) ::: drama ...</td>\n",
       "    </tr>\n",
       "  </tbody>\n",
       "</table>\n",
       "<p>108414 rows × 1 columns</p>\n",
       "</div>"
      ],
      "text/plain": [
       "                                                       0\n",
       "0      1 ::: Oscar et la dame rose (2009) ::: drama :...\n",
       "1      2 ::: Cupid (1997) ::: thriller ::: A brother ...\n",
       "2      3 ::: Young, Wild and Wonderful (1980) ::: adu...\n",
       "3      4 ::: The Secret Sin (1915) ::: drama ::: To h...\n",
       "4      5 ::: The Unrecovered (2007) ::: drama ::: The...\n",
       "...                                                  ...\n",
       "54195  54196 ::: \"Tales of Light & Dark\" (2013) ::: h...\n",
       "54196  54197 ::: Der letzte Mohikaner (1965) ::: west...\n",
       "54197  54198 ::: Oliver Twink (2007) ::: adult ::: A ...\n",
       "54198  54199 ::: Slipstream (1973) ::: drama ::: Popu...\n",
       "54199  54200 ::: Curitiba Zero Grau (2010) ::: drama ...\n",
       "\n",
       "[108414 rows x 1 columns]"
      ]
     },
     "execution_count": 232,
     "metadata": {},
     "output_type": "execute_result"
    }
   ],
   "source": [
    "genre=pd.concat([train,test])\n",
    "genre"
   ]
  },
  {
   "cell_type": "markdown",
   "metadata": {},
   "source": [
    "### 2.2. Column "
   ]
  },
  {
   "cell_type": "code",
   "execution_count": 233,
   "metadata": {},
   "outputs": [],
   "source": [
    "genre[[\"movie_id\",\"title\",\"genre\",\"description\"]]=genre[0].str.split(\":::\",expand=True)\n",
    "genre.drop(columns=0,inplace=True)\n"
   ]
  },
  {
   "cell_type": "markdown",
   "metadata": {},
   "source": [
    "## 3.  Preliminary Analysis"
   ]
  },
  {
   "cell_type": "markdown",
   "metadata": {},
   "source": [
    "### 3.1 Data Types"
   ]
  },
  {
   "cell_type": "code",
   "execution_count": 234,
   "metadata": {},
   "outputs": [
    {
     "name": "stdout",
     "output_type": "stream",
     "text": [
      "<class 'pandas.core.frame.DataFrame'>\n",
      "Index: 108414 entries, 0 to 54199\n",
      "Data columns (total 4 columns):\n",
      " #   Column       Non-Null Count   Dtype \n",
      "---  ------       --------------   ----- \n",
      " 0   movie_id     108414 non-null  object\n",
      " 1   title        108414 non-null  object\n",
      " 2   genre        108414 non-null  object\n",
      " 3   description  108414 non-null  object\n",
      "dtypes: object(4)\n",
      "memory usage: 4.1+ MB\n"
     ]
    }
   ],
   "source": [
    "genre.info()"
   ]
  },
  {
   "cell_type": "markdown",
   "metadata": {},
   "source": [
    "- `movie_id` must be in int format"
   ]
  },
  {
   "cell_type": "markdown",
   "metadata": {},
   "source": [
    "### 3.2 Check Duplicates"
   ]
  },
  {
   "cell_type": "code",
   "execution_count": 235,
   "metadata": {},
   "outputs": [
    {
     "data": {
      "text/plain": [
       "np.int64(0)"
      ]
     },
     "execution_count": 235,
     "metadata": {},
     "output_type": "execute_result"
    }
   ],
   "source": [
    "train.duplicated().sum()"
   ]
  },
  {
   "cell_type": "markdown",
   "metadata": {},
   "source": [
    "## 4. Detailed Analysis Of every column"
   ]
  },
  {
   "cell_type": "markdown",
   "metadata": {},
   "source": [
    "### 4.1. movie_id"
   ]
  },
  {
   "cell_type": "code",
   "execution_count": 236,
   "metadata": {},
   "outputs": [
    {
     "data": {
      "text/plain": [
       "(54214,)"
      ]
     },
     "execution_count": 236,
     "metadata": {},
     "output_type": "execute_result"
    }
   ],
   "source": [
    "genre.movie_id.unique().shape"
   ]
  },
  {
   "cell_type": "markdown",
   "metadata": {},
   "source": [
    "- `movie_id` not useful column"
   ]
  },
  {
   "cell_type": "markdown",
   "metadata": {},
   "source": [
    "### 4.2 title"
   ]
  },
  {
   "cell_type": "code",
   "execution_count": 237,
   "metadata": {},
   "outputs": [
    {
     "data": {
      "text/plain": [
       "0             Oscar et la dame rose (2009) \n",
       "1                             Cupid (1997) \n",
       "2         Young, Wild and Wonderful (1980) \n",
       "3                    The Secret Sin (1915) \n",
       "4                   The Unrecovered (2007) \n",
       "                        ...                \n",
       "54195       \"Tales of Light & Dark\" (2013) \n",
       "54196          Der letzte Mohikaner (1965) \n",
       "54197                  Oliver Twink (2007) \n",
       "54198                    Slipstream (1973) \n",
       "54199            Curitiba Zero Grau (2010) \n",
       "Name: title, Length: 108414, dtype: object"
      ]
     },
     "execution_count": 237,
     "metadata": {},
     "output_type": "execute_result"
    }
   ],
   "source": [
    "genre.title"
   ]
  },
  {
   "cell_type": "markdown",
   "metadata": {},
   "source": [
    "- we have to make another column `year` "
   ]
  },
  {
   "cell_type": "code",
   "execution_count": 238,
   "metadata": {},
   "outputs": [
    {
     "data": {
      "text/html": [
       "<div>\n",
       "<style scoped>\n",
       "    .dataframe tbody tr th:only-of-type {\n",
       "        vertical-align: middle;\n",
       "    }\n",
       "\n",
       "    .dataframe tbody tr th {\n",
       "        vertical-align: top;\n",
       "    }\n",
       "\n",
       "    .dataframe thead th {\n",
       "        text-align: right;\n",
       "    }\n",
       "</style>\n",
       "<table border=\"1\" class=\"dataframe\">\n",
       "  <thead>\n",
       "    <tr style=\"text-align: right;\">\n",
       "      <th></th>\n",
       "      <th>movie_id</th>\n",
       "      <th>title</th>\n",
       "      <th>genre</th>\n",
       "      <th>description</th>\n",
       "    </tr>\n",
       "  </thead>\n",
       "  <tbody>\n",
       "    <tr>\n",
       "      <th>0</th>\n",
       "      <td>1</td>\n",
       "      <td>Oscar et la dame rose</td>\n",
       "      <td>drama</td>\n",
       "      <td>Listening in to a conversation between his do...</td>\n",
       "    </tr>\n",
       "    <tr>\n",
       "      <th>1</th>\n",
       "      <td>2</td>\n",
       "      <td>Cupid</td>\n",
       "      <td>thriller</td>\n",
       "      <td>A brother and sister with a past incestuous r...</td>\n",
       "    </tr>\n",
       "    <tr>\n",
       "      <th>2</th>\n",
       "      <td>3</td>\n",
       "      <td>Young, Wild and Wonderful</td>\n",
       "      <td>adult</td>\n",
       "      <td>As the bus empties the students for their fie...</td>\n",
       "    </tr>\n",
       "    <tr>\n",
       "      <th>3</th>\n",
       "      <td>4</td>\n",
       "      <td>The Secret Sin</td>\n",
       "      <td>drama</td>\n",
       "      <td>To help their unemployed father make ends mee...</td>\n",
       "    </tr>\n",
       "    <tr>\n",
       "      <th>4</th>\n",
       "      <td>5</td>\n",
       "      <td>The Unrecovered</td>\n",
       "      <td>drama</td>\n",
       "      <td>The film's title refers not only to the un-re...</td>\n",
       "    </tr>\n",
       "    <tr>\n",
       "      <th>...</th>\n",
       "      <td>...</td>\n",
       "      <td>...</td>\n",
       "      <td>...</td>\n",
       "      <td>...</td>\n",
       "    </tr>\n",
       "    <tr>\n",
       "      <th>54195</th>\n",
       "      <td>54196</td>\n",
       "      <td>\"Tales of Light &amp; Dark\"</td>\n",
       "      <td>horror</td>\n",
       "      <td>Covering multiple genres, Tales of Light &amp; Da...</td>\n",
       "    </tr>\n",
       "    <tr>\n",
       "      <th>54196</th>\n",
       "      <td>54197</td>\n",
       "      <td>Der letzte Mohikaner</td>\n",
       "      <td>western</td>\n",
       "      <td>As Alice and Cora Munro attempt to find their...</td>\n",
       "    </tr>\n",
       "    <tr>\n",
       "      <th>54197</th>\n",
       "      <td>54198</td>\n",
       "      <td>Oliver Twink</td>\n",
       "      <td>adult</td>\n",
       "      <td>A movie 169 years in the making. Oliver Twist...</td>\n",
       "    </tr>\n",
       "    <tr>\n",
       "      <th>54198</th>\n",
       "      <td>54199</td>\n",
       "      <td>Slipstream</td>\n",
       "      <td>drama</td>\n",
       "      <td>Popular, but mysterious rock D.J Mike Mallard...</td>\n",
       "    </tr>\n",
       "    <tr>\n",
       "      <th>54199</th>\n",
       "      <td>54200</td>\n",
       "      <td>Curitiba Zero Grau</td>\n",
       "      <td>drama</td>\n",
       "      <td>Curitiba is a city in movement, with rhythms ...</td>\n",
       "    </tr>\n",
       "  </tbody>\n",
       "</table>\n",
       "<p>108414 rows × 4 columns</p>\n",
       "</div>"
      ],
      "text/plain": [
       "      movie_id                      title       genre  \\\n",
       "0           1       Oscar et la dame rose      drama    \n",
       "1           2                       Cupid   thriller    \n",
       "2           3   Young, Wild and Wonderful      adult    \n",
       "3           4              The Secret Sin      drama    \n",
       "4           5             The Unrecovered      drama    \n",
       "...        ...                        ...         ...   \n",
       "54195   54196     \"Tales of Light & Dark\"     horror    \n",
       "54196   54197        Der letzte Mohikaner    western    \n",
       "54197   54198                Oliver Twink      adult    \n",
       "54198   54199                  Slipstream      drama    \n",
       "54199   54200          Curitiba Zero Grau      drama    \n",
       "\n",
       "                                             description  \n",
       "0       Listening in to a conversation between his do...  \n",
       "1       A brother and sister with a past incestuous r...  \n",
       "2       As the bus empties the students for their fie...  \n",
       "3       To help their unemployed father make ends mee...  \n",
       "4       The film's title refers not only to the un-re...  \n",
       "...                                                  ...  \n",
       "54195   Covering multiple genres, Tales of Light & Da...  \n",
       "54196   As Alice and Cora Munro attempt to find their...  \n",
       "54197   A movie 169 years in the making. Oliver Twist...  \n",
       "54198   Popular, but mysterious rock D.J Mike Mallard...  \n",
       "54199   Curitiba is a city in movement, with rhythms ...  \n",
       "\n",
       "[108414 rows x 4 columns]"
      ]
     },
     "execution_count": 238,
     "metadata": {},
     "output_type": "execute_result"
    }
   ],
   "source": [
    "genre.assign(\n",
    "    title=lambda x: x[\"title\"].str.split(\"(\").str[0].str.strip()\n",
    ")"
   ]
  },
  {
   "cell_type": "code",
   "execution_count": 239,
   "metadata": {},
   "outputs": [
    {
     "data": {
      "text/html": [
       "<div>\n",
       "<style scoped>\n",
       "    .dataframe tbody tr th:only-of-type {\n",
       "        vertical-align: middle;\n",
       "    }\n",
       "\n",
       "    .dataframe tbody tr th {\n",
       "        vertical-align: top;\n",
       "    }\n",
       "\n",
       "    .dataframe thead th {\n",
       "        text-align: right;\n",
       "    }\n",
       "</style>\n",
       "<table border=\"1\" class=\"dataframe\">\n",
       "  <thead>\n",
       "    <tr style=\"text-align: right;\">\n",
       "      <th></th>\n",
       "      <th>movie_id</th>\n",
       "      <th>title</th>\n",
       "      <th>genre</th>\n",
       "      <th>description</th>\n",
       "      <th>year</th>\n",
       "    </tr>\n",
       "  </thead>\n",
       "  <tbody>\n",
       "    <tr>\n",
       "      <th>0</th>\n",
       "      <td>1</td>\n",
       "      <td>Oscar et la dame rose (2009)</td>\n",
       "      <td>drama</td>\n",
       "      <td>Listening in to a conversation between his do...</td>\n",
       "      <td>2009</td>\n",
       "    </tr>\n",
       "    <tr>\n",
       "      <th>1</th>\n",
       "      <td>2</td>\n",
       "      <td>Cupid (1997)</td>\n",
       "      <td>thriller</td>\n",
       "      <td>A brother and sister with a past incestuous r...</td>\n",
       "      <td>1997</td>\n",
       "    </tr>\n",
       "    <tr>\n",
       "      <th>2</th>\n",
       "      <td>3</td>\n",
       "      <td>Young, Wild and Wonderful (1980)</td>\n",
       "      <td>adult</td>\n",
       "      <td>As the bus empties the students for their fie...</td>\n",
       "      <td>1980</td>\n",
       "    </tr>\n",
       "    <tr>\n",
       "      <th>3</th>\n",
       "      <td>4</td>\n",
       "      <td>The Secret Sin (1915)</td>\n",
       "      <td>drama</td>\n",
       "      <td>To help their unemployed father make ends mee...</td>\n",
       "      <td>1915</td>\n",
       "    </tr>\n",
       "    <tr>\n",
       "      <th>4</th>\n",
       "      <td>5</td>\n",
       "      <td>The Unrecovered (2007)</td>\n",
       "      <td>drama</td>\n",
       "      <td>The film's title refers not only to the un-re...</td>\n",
       "      <td>2007</td>\n",
       "    </tr>\n",
       "    <tr>\n",
       "      <th>...</th>\n",
       "      <td>...</td>\n",
       "      <td>...</td>\n",
       "      <td>...</td>\n",
       "      <td>...</td>\n",
       "      <td>...</td>\n",
       "    </tr>\n",
       "    <tr>\n",
       "      <th>54195</th>\n",
       "      <td>54196</td>\n",
       "      <td>\"Tales of Light &amp; Dark\" (2013)</td>\n",
       "      <td>horror</td>\n",
       "      <td>Covering multiple genres, Tales of Light &amp; Da...</td>\n",
       "      <td>2013</td>\n",
       "    </tr>\n",
       "    <tr>\n",
       "      <th>54196</th>\n",
       "      <td>54197</td>\n",
       "      <td>Der letzte Mohikaner (1965)</td>\n",
       "      <td>western</td>\n",
       "      <td>As Alice and Cora Munro attempt to find their...</td>\n",
       "      <td>1965</td>\n",
       "    </tr>\n",
       "    <tr>\n",
       "      <th>54197</th>\n",
       "      <td>54198</td>\n",
       "      <td>Oliver Twink (2007)</td>\n",
       "      <td>adult</td>\n",
       "      <td>A movie 169 years in the making. Oliver Twist...</td>\n",
       "      <td>2007</td>\n",
       "    </tr>\n",
       "    <tr>\n",
       "      <th>54198</th>\n",
       "      <td>54199</td>\n",
       "      <td>Slipstream (1973)</td>\n",
       "      <td>drama</td>\n",
       "      <td>Popular, but mysterious rock D.J Mike Mallard...</td>\n",
       "      <td>1973</td>\n",
       "    </tr>\n",
       "    <tr>\n",
       "      <th>54199</th>\n",
       "      <td>54200</td>\n",
       "      <td>Curitiba Zero Grau (2010)</td>\n",
       "      <td>drama</td>\n",
       "      <td>Curitiba is a city in movement, with rhythms ...</td>\n",
       "      <td>2010</td>\n",
       "    </tr>\n",
       "  </tbody>\n",
       "</table>\n",
       "<p>108414 rows × 5 columns</p>\n",
       "</div>"
      ],
      "text/plain": [
       "      movie_id                               title       genre  \\\n",
       "0           1        Oscar et la dame rose (2009)       drama    \n",
       "1           2                        Cupid (1997)    thriller    \n",
       "2           3    Young, Wild and Wonderful (1980)       adult    \n",
       "3           4               The Secret Sin (1915)       drama    \n",
       "4           5              The Unrecovered (2007)       drama    \n",
       "...        ...                                 ...         ...   \n",
       "54195   54196      \"Tales of Light & Dark\" (2013)      horror    \n",
       "54196   54197         Der letzte Mohikaner (1965)     western    \n",
       "54197   54198                 Oliver Twink (2007)       adult    \n",
       "54198   54199                   Slipstream (1973)       drama    \n",
       "54199   54200           Curitiba Zero Grau (2010)       drama    \n",
       "\n",
       "                                             description  year  \n",
       "0       Listening in to a conversation between his do...  2009  \n",
       "1       A brother and sister with a past incestuous r...  1997  \n",
       "2       As the bus empties the students for their fie...  1980  \n",
       "3       To help their unemployed father make ends mee...  1915  \n",
       "4       The film's title refers not only to the un-re...  2007  \n",
       "...                                                  ...   ...  \n",
       "54195   Covering multiple genres, Tales of Light & Da...  2013  \n",
       "54196   As Alice and Cora Munro attempt to find their...  1965  \n",
       "54197   A movie 169 years in the making. Oliver Twist...  2007  \n",
       "54198   Popular, but mysterious rock D.J Mike Mallard...  1973  \n",
       "54199   Curitiba is a city in movement, with rhythms ...  2010  \n",
       "\n",
       "[108414 rows x 5 columns]"
      ]
     },
     "execution_count": 239,
     "metadata": {},
     "output_type": "execute_result"
    }
   ],
   "source": [
    "genre.assign(\n",
    "    year=lambda x: x[\"title\"].str.split(\"(\").str[1].str.strip(\" )/IVSR\").apply(lambda y: int(y) if y.isnumeric() else 0)\n",
    "    #(\" ?/IVSRworkingtitleAstroTurf Wa)\").replace(['\"',''],0).str.split(\")\").str[0].fillna(0).astype(int)\n",
    ")\n"
   ]
  },
  {
   "cell_type": "markdown",
   "metadata": {},
   "source": [
    "### 4.3 genre"
   ]
  },
  {
   "cell_type": "code",
   "execution_count": 240,
   "metadata": {},
   "outputs": [
    {
     "data": {
      "text/plain": [
       "genre\n",
       "drama           27225\n",
       "documentary     26192\n",
       "comedy          14893\n",
       "short           10145\n",
       "horror           4408\n",
       "thriller         3181\n",
       "action           2629\n",
       "western          2064\n",
       "reality-tv       1767\n",
       "family           1567\n",
       "adventure        1550\n",
       "music            1462\n",
       "romance          1344\n",
       "sci-fi           1293\n",
       "adult            1180\n",
       "crime            1010\n",
       "animation         996\n",
       "sport             863\n",
       "talk-show         782\n",
       "fantasy           645\n",
       "mystery           637\n",
       "musical           553\n",
       "biography         529\n",
       "history           486\n",
       "game-show         387\n",
       "news              362\n",
       "war               264\n",
       "Name: count, dtype: int64"
      ]
     },
     "execution_count": 240,
     "metadata": {},
     "output_type": "execute_result"
    }
   ],
   "source": [
    "genre[\"genre\"].value_counts()"
   ]
  },
  {
   "cell_type": "code",
   "execution_count": 241,
   "metadata": {},
   "outputs": [
    {
     "data": {
      "text/plain": [
       "count      108414\n",
       "unique         27\n",
       "top        drama \n",
       "freq        27225\n",
       "Name: genre, dtype: object"
      ]
     },
     "execution_count": 241,
     "metadata": {},
     "output_type": "execute_result"
    }
   ],
   "source": [
    "genre[\"genre\"].describe(include=\"O\")"
   ]
  },
  {
   "cell_type": "markdown",
   "metadata": {},
   "source": [
    "- Imbalenced Data "
   ]
  },
  {
   "cell_type": "markdown",
   "metadata": {},
   "source": [
    "### 4.4. Description"
   ]
  },
  {
   "cell_type": "code",
   "execution_count": 242,
   "metadata": {},
   "outputs": [
    {
     "data": {
      "text/plain": [
       "0         Listening in to a conversation between his do...\n",
       "1         A brother and sister with a past incestuous r...\n",
       "2         As the bus empties the students for their fie...\n",
       "3         To help their unemployed father make ends mee...\n",
       "4         The film's title refers not only to the un-re...\n",
       "                               ...                        \n",
       "54195     Covering multiple genres, Tales of Light & Da...\n",
       "54196     As Alice and Cora Munro attempt to find their...\n",
       "54197     A movie 169 years in the making. Oliver Twist...\n",
       "54198     Popular, but mysterious rock D.J Mike Mallard...\n",
       "54199     Curitiba is a city in movement, with rhythms ...\n",
       "Name: description, Length: 108414, dtype: object"
      ]
     },
     "execution_count": 242,
     "metadata": {},
     "output_type": "execute_result"
    }
   ],
   "source": [
    "genre.description"
   ]
  },
  {
   "cell_type": "markdown",
   "metadata": {},
   "source": [
    "## 5. Data Cleaning "
   ]
  },
  {
   "cell_type": "code",
   "execution_count": 243,
   "metadata": {},
   "outputs": [],
   "source": [
    "def clean_data(df):\n",
    "    # Ensure the title column is in string format\n",
    "    df[\"title\"] = df[\"title\"].astype(str)\n",
    "    return (\n",
    "         df\n",
    "         .drop(columns=[\"movie_id\"])\n",
    "         .assign(\n",
    "        title_cleaned=lambda x: x[\"title\"].str.split(\"(\").str[0].str.strip(),\n",
    "        year=lambda x: x[\"title\"].str.split(\"(\").str[1].str.split(\")\").str[0].apply(lambda y: int(y) if y.isnumeric() else 0)\n",
    "    )\n",
    "         .drop(columns=[\"title\"])\n",
    "         .rename(columns={\"title_cleaned\": \"title\"})\n",
    "    )"
   ]
  },
  {
   "cell_type": "code",
   "execution_count": 244,
   "metadata": {},
   "outputs": [],
   "source": [
    "final_text=clean_data(genre)"
   ]
  },
  {
   "cell_type": "code",
   "execution_count": 245,
   "metadata": {},
   "outputs": [
    {
     "name": "stdout",
     "output_type": "stream",
     "text": [
      "<class 'pandas.core.frame.DataFrame'>\n",
      "Index: 108414 entries, 0 to 54199\n",
      "Data columns (total 4 columns):\n",
      " #   Column       Non-Null Count   Dtype \n",
      "---  ------       --------------   ----- \n",
      " 0   genre        108414 non-null  object\n",
      " 1   description  108414 non-null  object\n",
      " 2   title        108414 non-null  object\n",
      " 3   year         108414 non-null  int64 \n",
      "dtypes: int64(1), object(3)\n",
      "memory usage: 4.1+ MB\n"
     ]
    }
   ],
   "source": [
    "final_text.info()"
   ]
  },
  {
   "cell_type": "markdown",
   "metadata": {},
   "source": [
    "## 6. Split The Data"
   ]
  },
  {
   "cell_type": "code",
   "execution_count": 246,
   "metadata": {},
   "outputs": [],
   "source": [
    "x=final_text.drop(columns=[\"genre\"])\n",
    "y=final_text[\"genre\"]"
   ]
  },
  {
   "cell_type": "code",
   "execution_count": 247,
   "metadata": {},
   "outputs": [
    {
     "name": "stdout",
     "output_type": "stream",
     "text": [
      "(108414, 3)\n",
      "(108414,)\n"
     ]
    }
   ],
   "source": [
    "print(x.shape)\n",
    "print(y.shape)"
   ]
  },
  {
   "cell_type": "code",
   "execution_count": 248,
   "metadata": {},
   "outputs": [
    {
     "name": "stdout",
     "output_type": "stream",
     "text": [
      "(86731, 3)\n",
      "(86731,)\n",
      "(21683, 3)\n",
      "(21683,)\n",
      "(69384, 3)\n",
      "(69384,)\n",
      "(17347, 3)\n",
      "(17347,)\n"
     ]
    }
   ],
   "source": [
    "x_,x_test,y_,y_test=train_test_split(x,y,test_size=0.2,random_state=42)\n",
    "x_train,x_val,y_train,y_val=train_test_split(x_,y_,test_size=0.2,random_state=42)\n",
    "\n",
    "print(x_.shape)\n",
    "print(y_.shape)\n",
    "print(x_test.shape)\n",
    "print(y_test.shape)\n",
    "print(x_train.shape)\n",
    "print(y_train.shape)\n",
    "print(x_val.shape)\n",
    "print(y_val.shape)"
   ]
  },
  {
   "cell_type": "markdown",
   "metadata": {},
   "source": [
    "## 7.Export Data"
   ]
  },
  {
   "cell_type": "code",
   "execution_count": 249,
   "metadata": {},
   "outputs": [],
   "source": [
    "def export(x, y, name):\n",
    "    file_name = f\"{name}.csv\"\n",
    "    full_path = os.path.join(file_path, file_name)\n",
    "    combined_df = pd.concat([x, y], axis=1)\n",
    "    combined_df.to_csv(full_path, index=False)\n",
    "    return pd.read_csv(full_path).info()"
   ]
  },
  {
   "cell_type": "code",
   "execution_count": 250,
   "metadata": {},
   "outputs": [
    {
     "name": "stdout",
     "output_type": "stream",
     "text": [
      "<class 'pandas.core.frame.DataFrame'>\n",
      "RangeIndex: 69384 entries, 0 to 69383\n",
      "Data columns (total 4 columns):\n",
      " #   Column       Non-Null Count  Dtype \n",
      "---  ------       --------------  ----- \n",
      " 0   description  69384 non-null  object\n",
      " 1   title        69369 non-null  object\n",
      " 2   year         69384 non-null  int64 \n",
      " 3   genre        69384 non-null  object\n",
      "dtypes: int64(1), object(3)\n",
      "memory usage: 2.1+ MB\n"
     ]
    }
   ],
   "source": [
    "export(x_train,y_train,\"train-c\")"
   ]
  },
  {
   "cell_type": "code",
   "execution_count": 251,
   "metadata": {},
   "outputs": [
    {
     "name": "stdout",
     "output_type": "stream",
     "text": [
      "<class 'pandas.core.frame.DataFrame'>\n",
      "RangeIndex: 21683 entries, 0 to 21682\n",
      "Data columns (total 4 columns):\n",
      " #   Column       Non-Null Count  Dtype \n",
      "---  ------       --------------  ----- \n",
      " 0   description  21683 non-null  object\n",
      " 1   title        21680 non-null  object\n",
      " 2   year         21683 non-null  int64 \n",
      " 3   genre        21683 non-null  object\n",
      "dtypes: int64(1), object(3)\n",
      "memory usage: 677.7+ KB\n"
     ]
    }
   ],
   "source": [
    "export(x_test,y_test,\"test-c\")"
   ]
  },
  {
   "cell_type": "code",
   "execution_count": 252,
   "metadata": {},
   "outputs": [
    {
     "name": "stdout",
     "output_type": "stream",
     "text": [
      "<class 'pandas.core.frame.DataFrame'>\n",
      "RangeIndex: 17347 entries, 0 to 17346\n",
      "Data columns (total 4 columns):\n",
      " #   Column       Non-Null Count  Dtype \n",
      "---  ------       --------------  ----- \n",
      " 0   description  17347 non-null  object\n",
      " 1   title        17346 non-null  object\n",
      " 2   year         17347 non-null  int64 \n",
      " 3   genre        17347 non-null  object\n",
      "dtypes: int64(1), object(3)\n",
      "memory usage: 542.2+ KB\n"
     ]
    }
   ],
   "source": [
    "export(x_val,y_val,\"val-c\")"
   ]
  },
  {
   "cell_type": "code",
   "execution_count": null,
   "metadata": {},
   "outputs": [],
   "source": []
  }
 ],
 "metadata": {
  "kernelspec": {
   "display_name": "env1",
   "language": "python",
   "name": "python3"
  },
  "language_info": {
   "codemirror_mode": {
    "name": "ipython",
    "version": 3
   },
   "file_extension": ".py",
   "mimetype": "text/x-python",
   "name": "python",
   "nbconvert_exporter": "python",
   "pygments_lexer": "ipython3",
   "version": "3.12.4"
  }
 },
 "nbformat": 4,
 "nbformat_minor": 2
}
