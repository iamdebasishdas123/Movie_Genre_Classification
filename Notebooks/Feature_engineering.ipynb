{
 "cells": [
  {
   "cell_type": "markdown",
   "metadata": {},
   "source": [
    "## 1. Import Libraries"
   ]
  },
  {
   "cell_type": "code",
   "execution_count": 4,
   "metadata": {},
   "outputs": [
    {
     "name": "stdout",
     "output_type": "stream",
     "text": [
      "Requirement already satisfied: nltk in c:\\users\\debasish das\\.conda\\envs\\env1\\lib\\site-packages (3.8.1)\n",
      "Requirement already satisfied: click in c:\\users\\debasish das\\.conda\\envs\\env1\\lib\\site-packages (from nltk) (8.1.7)\n",
      "Requirement already satisfied: joblib in c:\\users\\debasish das\\.conda\\envs\\env1\\lib\\site-packages (from nltk) (1.1.1)\n",
      "Requirement already satisfied: regex>=2021.8.3 in c:\\users\\debasish das\\.conda\\envs\\env1\\lib\\site-packages (from nltk) (2024.5.15)\n",
      "Requirement already satisfied: tqdm in c:\\users\\debasish das\\.conda\\envs\\env1\\lib\\site-packages (from nltk) (4.66.4)\n",
      "Requirement already satisfied: colorama in c:\\users\\debasish das\\.conda\\envs\\env1\\lib\\site-packages (from click->nltk) (0.4.6)\n"
     ]
    }
   ],
   "source": [
    "!pip install nltk"
   ]
  },
  {
   "cell_type": "code",
   "execution_count": 28,
   "metadata": {},
   "outputs": [],
   "source": [
    "import pandas as pd\n",
    "\n",
    "import numpy as np\n",
    "\n",
    "import os\n",
    "\n",
    "import matplotlib.pyplot as plt\n",
    "\n",
    "import seaborn as sns\n",
    "\n",
    "import nltk\n",
    "\n",
    "import string\n",
    "\n",
    "from nltk.corpus import stopwords\n",
    "\n",
    "from nltk.stem import LancasterStemmer\n",
    "\n",
    "from sklearn.feature_extraction.text import TfidfVectorizer\n",
    "from sklearn.model_selection import train_test_split\n",
    "from sklearn.naive_bayes import MultinomialNB\n",
    "from sklearn.metrics import accuracy_score, classification_report\n",
    "from scipy.sparse import hstack, csr_matrix"
   ]
  },
  {
   "cell_type": "markdown",
   "metadata": {},
   "source": [
    "## 2. Import Dataset"
   ]
  },
  {
   "cell_type": "code",
   "execution_count": 12,
   "metadata": {},
   "outputs": [],
   "source": [
    "file_path=r\"C:\\Users\\Debasish Das\\Desktop\\Movie_Genre\\Genre Classification Dataset\"\n",
    "def get_data(name):\n",
    "    file_name=f\"{name}.csv\"\n",
    "    full_path=os.path.join(file_path,file_name)\n",
    "    return pd.read_csv(full_path)"
   ]
  },
  {
   "cell_type": "code",
   "execution_count": 13,
   "metadata": {},
   "outputs": [],
   "source": [
    "train=get_data(\"train-c\")\n",
    "test=get_data(\"test-c\")"
   ]
  },
  {
   "cell_type": "code",
   "execution_count": 25,
   "metadata": {},
   "outputs": [],
   "source": [
    "train=train.dropna(subset=[\"title\"])"
   ]
  },
  {
   "cell_type": "code",
   "execution_count": 26,
   "metadata": {},
   "outputs": [
    {
     "name": "stdout",
     "output_type": "stream",
     "text": [
      "<class 'pandas.core.frame.DataFrame'>\n",
      "Index: 69369 entries, 0 to 69383\n",
      "Data columns (total 4 columns):\n",
      " #   Column       Non-Null Count  Dtype \n",
      "---  ------       --------------  ----- \n",
      " 0   description  69369 non-null  object\n",
      " 1   title        69369 non-null  object\n",
      " 2   year         69369 non-null  int64 \n",
      " 3   genre        69369 non-null  object\n",
      "dtypes: int64(1), object(3)\n",
      "memory usage: 2.6+ MB\n"
     ]
    }
   ],
   "source": [
    "train.info()"
   ]
  },
  {
   "cell_type": "markdown",
   "metadata": {},
   "source": [
    "## 3. Preprocessing of Data"
   ]
  },
  {
   "cell_type": "code",
   "execution_count": 29,
   "metadata": {},
   "outputs": [
    {
     "name": "stdout",
     "output_type": "stream",
     "text": [
      "Accuracy on training set: 0.5068978938719024\n"
     ]
    },
    {
     "name": "stderr",
     "output_type": "stream",
     "text": [
      "c:\\Users\\Debasish Das\\.conda\\envs\\env1\\Lib\\site-packages\\sklearn\\metrics\\_classification.py:1517: UndefinedMetricWarning: Precision is ill-defined and being set to 0.0 in labels with no predicted samples. Use `zero_division` parameter to control this behavior.\n",
      "  _warn_prf(average, modifier, f\"{metric.capitalize()} is\", len(result))\n",
      "c:\\Users\\Debasish Das\\.conda\\envs\\env1\\Lib\\site-packages\\sklearn\\metrics\\_classification.py:1517: UndefinedMetricWarning: Precision is ill-defined and being set to 0.0 in labels with no predicted samples. Use `zero_division` parameter to control this behavior.\n",
      "  _warn_prf(average, modifier, f\"{metric.capitalize()} is\", len(result))\n"
     ]
    },
    {
     "name": "stdout",
     "output_type": "stream",
     "text": [
      "Classification Report on training set:\n",
      "                precision    recall  f1-score   support\n",
      "\n",
      "      action        0.91      0.02      0.05      1665\n",
      "       adult        0.00      0.00      0.00       790\n",
      "   adventure        0.88      0.01      0.01      1007\n",
      "   animation        1.00      0.00      0.00       623\n",
      "   biography        0.40      0.08      0.14       349\n",
      "      comedy        0.54      0.50      0.52      9515\n",
      "       crime        0.67      0.01      0.01       618\n",
      " documentary        0.60      0.85      0.70     16725\n",
      "       drama        0.48      0.78      0.60     17316\n",
      "      family        0.00      0.00      0.00      1056\n",
      "     fantasy        0.26      0.15      0.19       405\n",
      "   game-show        0.33      0.04      0.08       252\n",
      "     history        0.12      0.00      0.01       301\n",
      "      horror        0.83      0.26      0.39      2816\n",
      "       music        0.97      0.03      0.07       926\n",
      "     musical        0.67      0.01      0.01       359\n",
      "     mystery        0.44      0.02      0.03       431\n",
      "        news        0.09      0.00      0.01       242\n",
      "  reality-tv        1.00      0.00      0.00      1119\n",
      "     romance        0.22      0.00      0.00       859\n",
      "      sci-fi        0.82      0.05      0.09       848\n",
      "       short        0.65      0.18      0.28      6553\n",
      "       sport        1.00      0.00      0.00       576\n",
      "   talk-show        0.00      0.00      0.00       492\n",
      "    thriller        0.50      0.01      0.02      2049\n",
      "         war        0.00      0.12      0.01       175\n",
      "     western        0.99      0.36      0.53      1302\n",
      "\n",
      "     accuracy                           0.51     69369\n",
      "    macro avg       0.53      0.13      0.14     69369\n",
      " weighted avg       0.58      0.51      0.45     69369\n",
      "\n"
     ]
    },
    {
     "name": "stderr",
     "output_type": "stream",
     "text": [
      "c:\\Users\\Debasish Das\\.conda\\envs\\env1\\Lib\\site-packages\\sklearn\\metrics\\_classification.py:1517: UndefinedMetricWarning: Precision is ill-defined and being set to 0.0 in labels with no predicted samples. Use `zero_division` parameter to control this behavior.\n",
      "  _warn_prf(average, modifier, f\"{metric.capitalize()} is\", len(result))\n"
     ]
    }
   ],
   "source": [
    "# Vectorize the description\n",
    "tfidf_vectorizer_desc = TfidfVectorizer(max_features=5000)\n",
    "X_train_desc = tfidf_vectorizer_desc.fit_transform(train['description'])\n",
    "\n",
    "# Vectorize the title\n",
    "tfidf_vectorizer_title = TfidfVectorizer(max_features=5000)\n",
    "X_train_title = tfidf_vectorizer_title.fit_transform(train['title'])\n",
    "\n",
    "# Convert year to sparse matrix\n",
    "X_train_year = csr_matrix(train['year'].values.reshape(-1, 1))\n",
    "\n",
    "# Combine the feature matrices\n",
    "X = hstack([X_train_desc, X_train_title, X_train_year])\n",
    "\n",
    "# Target variable\n",
    "y_train = train['genre']\n",
    "\n",
    "# Train the Naive Bayes classifier\n",
    "nb_classifier = MultinomialNB()\n",
    "nb_classifier.fit(X, y_train)\n",
    "\n",
    "# Predict on training data\n",
    "y_train_pred = nb_classifier.predict(X)\n",
    "\n",
    "# Print accuracy and classification report\n",
    "print(\"Accuracy on training set:\", accuracy_score(y_train, y_train_pred))\n",
    "print(\"Classification Report on training set:\\n\", classification_report(y_train, y_train_pred))"
   ]
  },
  {
   "cell_type": "code",
   "execution_count": null,
   "metadata": {},
   "outputs": [],
   "source": []
  },
  {
   "cell_type": "code",
   "execution_count": null,
   "metadata": {},
   "outputs": [],
   "source": []
  }
 ],
 "metadata": {
  "kernelspec": {
   "display_name": "env1",
   "language": "python",
   "name": "python3"
  },
  "language_info": {
   "codemirror_mode": {
    "name": "ipython",
    "version": 3
   },
   "file_extension": ".py",
   "mimetype": "text/x-python",
   "name": "python",
   "nbconvert_exporter": "python",
   "pygments_lexer": "ipython3",
   "version": "3.12.4"
  }
 },
 "nbformat": 4,
 "nbformat_minor": 2
}
